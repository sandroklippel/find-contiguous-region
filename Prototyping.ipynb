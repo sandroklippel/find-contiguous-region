{
 "metadata": {
  "language_info": {
   "codemirror_mode": {
    "name": "ipython",
    "version": 3
   },
   "file_extension": ".py",
   "mimetype": "text/x-python",
   "name": "python",
   "nbconvert_exporter": "python",
   "pygments_lexer": "ipython3",
   "version": "3.7.3-final"
  },
  "orig_nbformat": 2,
  "kernelspec": {
   "name": "python3",
   "display_name": "Python 3.7.3 64-bit",
   "metadata": {
    "interpreter": {
     "hash": "31f2aee4e71d21fbe5cf8b01ff0e069b9275f58929596ceb00d14d90e3e16cd6"
    }
   }
  }
 },
 "nbformat": 4,
 "nbformat_minor": 2,
 "cells": [
  {
   "cell_type": "code",
   "execution_count": 1,
   "metadata": {},
   "outputs": [
    {
     "output_type": "stream",
     "name": "stdout",
     "text": [
      "00000000\n00000000\n11110000\n11111000\n11111000\n00111000\n"
     ]
    }
   ],
   "source": [
    "# algorithm similar to flood fill, using a stack\n",
    "# from https://stackoverflow.com/questions/22775371/how-to-iterate-through-a-numpy-array-and-select-neighboring-cells/22796713\n",
    "\n",
    "import numpy as np\n",
    "\n",
    "z = '''33 33 33 37 38 37 43 40\n",
    "33 33 33 38 38 38 44 40\n",
    "36 36 36 36 38 39 44 41\n",
    "35 36 35 35 34 30 40 41\n",
    "36 36 35 35 34 30 30 41\n",
    "38 38 35 35 34 30 30 41'''\n",
    "z = np.array([[int(i) for i in line.split()] for line in z.splitlines()])\n",
    "\n",
    "neighbours = [(-1,-1), (-1,0), (-1,1), (0,1), (1,1), (1,0), (1,-1), (0,-1)]\n",
    "mask = np.zeros_like(z, dtype = bool)\n",
    "stack = [(3,2)] # push start coordinate on stack\n",
    "\n",
    "# to stop at given size simply set a counter to zero before the while loop, increment it either when processing \n",
    "# a cell or when adding a neighbor, and finally break out of the while loop or stop adding \n",
    "# neighbors when the counter is greater than some threshold\n",
    "\n",
    "while stack:\n",
    "    x, y = stack.pop()\n",
    "    mask[x, y] = True\n",
    "    for dx, dy in neighbours:\n",
    "        nx, ny = x + dx, y + dy\n",
    "        if (0 <= nx < z.shape[0] and 0 <= ny < z.shape[1] # limits constrain\n",
    "            and not mask[nx, ny] and abs(z[nx, ny] - z[x, y]) <= 1):\n",
    "            stack.append((nx, ny))\n",
    "\n",
    "for line in mask:\n",
    "    print(''.join('01'[i] for i in line))"
   ]
  },
  {
   "cell_type": "code",
   "execution_count": 4,
   "metadata": {},
   "outputs": [
    {
     "output_type": "execute_result",
     "data": {
      "text/plain": [
       "array([[False, False, False, False, False, False, False, False],\n",
       "       [False, False, False, False, False, False, False, False],\n",
       "       [ True,  True,  True,  True, False, False, False, False],\n",
       "       [ True,  True,  True,  True,  True, False, False, False],\n",
       "       [ True,  True,  True,  True,  True, False, False, False],\n",
       "       [False, False,  True,  True,  True, False, False, False]])"
      ]
     },
     "metadata": {},
     "execution_count": 4
    }
   ],
   "source": [
    "mask"
   ]
  },
  {
   "cell_type": "code",
   "execution_count": null,
   "metadata": {},
   "outputs": [],
   "source": []
  }
 ]
}